{
 "cells": [
  {
   "cell_type": "code",
   "execution_count": 1,
   "metadata": {
    "collapsed": true
   },
   "outputs": [],
   "source": [
    "import numpy as np\n",
    "import pandas as pd\n",
    "import matplotlib.pyplot as plt\n",
    "import seaborn as sns"
   ]
  },
  {
   "cell_type": "code",
   "execution_count": 13,
   "metadata": {},
   "outputs": [
    {
     "name": "stdout",
     "output_type": "stream",
     "text": [
      "(110527, 12)\n"
     ]
    },
    {
     "data": {
      "text/html": [
       "<div>\n",
       "<table border=\"1\" class=\"dataframe\">\n",
       "  <thead>\n",
       "    <tr style=\"text-align: right;\">\n",
       "      <th></th>\n",
       "      <th>Gender</th>\n",
       "      <th>ScheduledDay</th>\n",
       "      <th>AppointmentDay</th>\n",
       "      <th>Age</th>\n",
       "      <th>Neighbourhood</th>\n",
       "      <th>Scholarship</th>\n",
       "      <th>Hypertension</th>\n",
       "      <th>Diabetes</th>\n",
       "      <th>Alcoholism</th>\n",
       "      <th>Handicap</th>\n",
       "      <th>SMS_received</th>\n",
       "      <th>Noshow</th>\n",
       "    </tr>\n",
       "    <tr>\n",
       "      <th>PatientId</th>\n",
       "      <th></th>\n",
       "      <th></th>\n",
       "      <th></th>\n",
       "      <th></th>\n",
       "      <th></th>\n",
       "      <th></th>\n",
       "      <th></th>\n",
       "      <th></th>\n",
       "      <th></th>\n",
       "      <th></th>\n",
       "      <th></th>\n",
       "      <th></th>\n",
       "    </tr>\n",
       "  </thead>\n",
       "  <tbody>\n",
       "    <tr>\n",
       "      <th>2.987250e+13</th>\n",
       "      <td>0</td>\n",
       "      <td>2016-04-29 18:38:08</td>\n",
       "      <td>2016-04-29</td>\n",
       "      <td>62</td>\n",
       "      <td>JARDIM DA PENHA</td>\n",
       "      <td>0</td>\n",
       "      <td>1</td>\n",
       "      <td>0</td>\n",
       "      <td>0</td>\n",
       "      <td>0</td>\n",
       "      <td>0</td>\n",
       "      <td>0</td>\n",
       "    </tr>\n",
       "    <tr>\n",
       "      <th>5.589978e+14</th>\n",
       "      <td>1</td>\n",
       "      <td>2016-04-29 16:08:27</td>\n",
       "      <td>2016-04-29</td>\n",
       "      <td>56</td>\n",
       "      <td>JARDIM DA PENHA</td>\n",
       "      <td>0</td>\n",
       "      <td>0</td>\n",
       "      <td>0</td>\n",
       "      <td>0</td>\n",
       "      <td>0</td>\n",
       "      <td>0</td>\n",
       "      <td>0</td>\n",
       "    </tr>\n",
       "    <tr>\n",
       "      <th>4.262962e+12</th>\n",
       "      <td>0</td>\n",
       "      <td>2016-04-29 16:19:04</td>\n",
       "      <td>2016-04-29</td>\n",
       "      <td>62</td>\n",
       "      <td>MATA DA PRAIA</td>\n",
       "      <td>0</td>\n",
       "      <td>0</td>\n",
       "      <td>0</td>\n",
       "      <td>0</td>\n",
       "      <td>0</td>\n",
       "      <td>0</td>\n",
       "      <td>0</td>\n",
       "    </tr>\n",
       "    <tr>\n",
       "      <th>8.679512e+11</th>\n",
       "      <td>0</td>\n",
       "      <td>2016-04-29 17:29:31</td>\n",
       "      <td>2016-04-29</td>\n",
       "      <td>8</td>\n",
       "      <td>PONTAL DE CAMBURI</td>\n",
       "      <td>0</td>\n",
       "      <td>0</td>\n",
       "      <td>0</td>\n",
       "      <td>0</td>\n",
       "      <td>0</td>\n",
       "      <td>0</td>\n",
       "      <td>0</td>\n",
       "    </tr>\n",
       "    <tr>\n",
       "      <th>8.841186e+12</th>\n",
       "      <td>0</td>\n",
       "      <td>2016-04-29 16:07:23</td>\n",
       "      <td>2016-04-29</td>\n",
       "      <td>56</td>\n",
       "      <td>JARDIM DA PENHA</td>\n",
       "      <td>0</td>\n",
       "      <td>1</td>\n",
       "      <td>1</td>\n",
       "      <td>0</td>\n",
       "      <td>0</td>\n",
       "      <td>0</td>\n",
       "      <td>0</td>\n",
       "    </tr>\n",
       "  </tbody>\n",
       "</table>\n",
       "</div>"
      ],
      "text/plain": [
       "              Gender        ScheduledDay AppointmentDay  Age  \\\n",
       "PatientId                                                      \n",
       "2.987250e+13       0 2016-04-29 18:38:08     2016-04-29   62   \n",
       "5.589978e+14       1 2016-04-29 16:08:27     2016-04-29   56   \n",
       "4.262962e+12       0 2016-04-29 16:19:04     2016-04-29   62   \n",
       "8.679512e+11       0 2016-04-29 17:29:31     2016-04-29    8   \n",
       "8.841186e+12       0 2016-04-29 16:07:23     2016-04-29   56   \n",
       "\n",
       "                  Neighbourhood  Scholarship  Hypertension  Diabetes  \\\n",
       "PatientId                                                              \n",
       "2.987250e+13    JARDIM DA PENHA            0             1         0   \n",
       "5.589978e+14    JARDIM DA PENHA            0             0         0   \n",
       "4.262962e+12      MATA DA PRAIA            0             0         0   \n",
       "8.679512e+11  PONTAL DE CAMBURI            0             0         0   \n",
       "8.841186e+12    JARDIM DA PENHA            0             1         1   \n",
       "\n",
       "              Alcoholism  Handicap  SMS_received  Noshow  \n",
       "PatientId                                                 \n",
       "2.987250e+13           0         0             0       0  \n",
       "5.589978e+14           0         0             0       0  \n",
       "4.262962e+12           0         0             0       0  \n",
       "8.679512e+11           0         0             0       0  \n",
       "8.841186e+12           0         0             0       0  "
      ]
     },
     "execution_count": 13,
     "metadata": {},
     "output_type": "execute_result"
    }
   ],
   "source": [
    "# clean data\n",
    "data = pd.read_csv('original_data.csv', index_col=0)\n",
    "data = data.drop('AppointmentID', axis=1)\n",
    "data.rename(columns = {'Hipertension':'Hypertension','Handcap':'Handicap','No-show':'Noshow'}, inplace=True)\n",
    "data.Gender = [1 if i=='M' else 0 for i in data.Gender]\n",
    "data.Noshow = [1 if i=='Yes' else 0 for i in data.Noshow]\n",
    "data.ScheduledDay = data.ScheduledDay.apply(np.datetime64)\n",
    "data.AppointmentDay = data.AppointmentDay.apply(np.datetime64)\n",
    "#data.to_csv('cleaned_data.csv')\n",
    "print(data.shape)\n",
    "data.head()"
   ]
  },
  {
   "cell_type": "code",
   "execution_count": 26,
   "metadata": {},
   "outputs": [
    {
     "name": "stdout",
     "output_type": "stream",
     "text": [
      "20.19% of the patients were no-shows.\n"
     ]
    }
   ],
   "source": [
    "print (\"{}% of the patients were no-shows.\".format(round(100*sum(data.Noshow)/data.shape[0],2)))"
   ]
  }
 ],
 "metadata": {
  "kernelspec": {
   "display_name": "Python [python3]",
   "language": "python",
   "name": "Python [python3]"
  },
  "language_info": {
   "codemirror_mode": {
    "name": "ipython",
    "version": 3
   },
   "file_extension": ".py",
   "mimetype": "text/x-python",
   "name": "python",
   "nbconvert_exporter": "python",
   "pygments_lexer": "ipython3",
   "version": "3.5.2"
  }
 },
 "nbformat": 4,
 "nbformat_minor": 2
}
