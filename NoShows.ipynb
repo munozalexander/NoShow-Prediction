{
 "cells": [
  {
   "cell_type": "code",
   "execution_count": 1,
   "metadata": {
    "collapsed": true
   },
   "outputs": [],
   "source": [
    "import numpy as np\n",
    "import pandas as pd\n",
    "import matplotlib.pyplot as plt\n",
    "import seaborn as sns"
   ]
  },
  {
   "cell_type": "code",
   "execution_count": 99,
   "metadata": {},
   "outputs": [
    {
     "name": "stdout",
     "output_type": "stream",
     "text": [
      "(110526, 12)\n"
     ]
    },
    {
     "data": {
      "text/html": [
       "<div>\n",
       "<table border=\"1\" class=\"dataframe\">\n",
       "  <thead>\n",
       "    <tr style=\"text-align: right;\">\n",
       "      <th></th>\n",
       "      <th>Gender</th>\n",
       "      <th>Age</th>\n",
       "      <th>Neighbourhood</th>\n",
       "      <th>Scholarship</th>\n",
       "      <th>Hypertension</th>\n",
       "      <th>Diabetes</th>\n",
       "      <th>Alcoholism</th>\n",
       "      <th>Handicap</th>\n",
       "      <th>SMS_received</th>\n",
       "      <th>Noshow</th>\n",
       "      <th>ScheduledHour</th>\n",
       "      <th>DaysSchedToAppt</th>\n",
       "    </tr>\n",
       "    <tr>\n",
       "      <th>PatientId</th>\n",
       "      <th></th>\n",
       "      <th></th>\n",
       "      <th></th>\n",
       "      <th></th>\n",
       "      <th></th>\n",
       "      <th></th>\n",
       "      <th></th>\n",
       "      <th></th>\n",
       "      <th></th>\n",
       "      <th></th>\n",
       "      <th></th>\n",
       "      <th></th>\n",
       "    </tr>\n",
       "  </thead>\n",
       "  <tbody>\n",
       "    <tr>\n",
       "      <th>2.987250e+13</th>\n",
       "      <td>0</td>\n",
       "      <td>62</td>\n",
       "      <td>JARDIM DA PENHA</td>\n",
       "      <td>0</td>\n",
       "      <td>1</td>\n",
       "      <td>0</td>\n",
       "      <td>0</td>\n",
       "      <td>0</td>\n",
       "      <td>0</td>\n",
       "      <td>0</td>\n",
       "      <td>18</td>\n",
       "      <td>0</td>\n",
       "    </tr>\n",
       "    <tr>\n",
       "      <th>5.589978e+14</th>\n",
       "      <td>1</td>\n",
       "      <td>56</td>\n",
       "      <td>JARDIM DA PENHA</td>\n",
       "      <td>0</td>\n",
       "      <td>0</td>\n",
       "      <td>0</td>\n",
       "      <td>0</td>\n",
       "      <td>0</td>\n",
       "      <td>0</td>\n",
       "      <td>0</td>\n",
       "      <td>16</td>\n",
       "      <td>0</td>\n",
       "    </tr>\n",
       "    <tr>\n",
       "      <th>4.262962e+12</th>\n",
       "      <td>0</td>\n",
       "      <td>62</td>\n",
       "      <td>MATA DA PRAIA</td>\n",
       "      <td>0</td>\n",
       "      <td>0</td>\n",
       "      <td>0</td>\n",
       "      <td>0</td>\n",
       "      <td>0</td>\n",
       "      <td>0</td>\n",
       "      <td>0</td>\n",
       "      <td>16</td>\n",
       "      <td>0</td>\n",
       "    </tr>\n",
       "    <tr>\n",
       "      <th>8.679512e+11</th>\n",
       "      <td>0</td>\n",
       "      <td>8</td>\n",
       "      <td>PONTAL DE CAMBURI</td>\n",
       "      <td>0</td>\n",
       "      <td>0</td>\n",
       "      <td>0</td>\n",
       "      <td>0</td>\n",
       "      <td>0</td>\n",
       "      <td>0</td>\n",
       "      <td>0</td>\n",
       "      <td>17</td>\n",
       "      <td>0</td>\n",
       "    </tr>\n",
       "    <tr>\n",
       "      <th>8.841186e+12</th>\n",
       "      <td>0</td>\n",
       "      <td>56</td>\n",
       "      <td>JARDIM DA PENHA</td>\n",
       "      <td>0</td>\n",
       "      <td>1</td>\n",
       "      <td>1</td>\n",
       "      <td>0</td>\n",
       "      <td>0</td>\n",
       "      <td>0</td>\n",
       "      <td>0</td>\n",
       "      <td>16</td>\n",
       "      <td>0</td>\n",
       "    </tr>\n",
       "  </tbody>\n",
       "</table>\n",
       "</div>"
      ],
      "text/plain": [
       "              Gender  Age      Neighbourhood  Scholarship  Hypertension  \\\n",
       "PatientId                                                                 \n",
       "2.987250e+13       0   62    JARDIM DA PENHA            0             1   \n",
       "5.589978e+14       1   56    JARDIM DA PENHA            0             0   \n",
       "4.262962e+12       0   62      MATA DA PRAIA            0             0   \n",
       "8.679512e+11       0    8  PONTAL DE CAMBURI            0             0   \n",
       "8.841186e+12       0   56    JARDIM DA PENHA            0             1   \n",
       "\n",
       "              Diabetes  Alcoholism  Handicap  SMS_received  Noshow  \\\n",
       "PatientId                                                            \n",
       "2.987250e+13         0           0         0             0       0   \n",
       "5.589978e+14         0           0         0             0       0   \n",
       "4.262962e+12         0           0         0             0       0   \n",
       "8.679512e+11         0           0         0             0       0   \n",
       "8.841186e+12         1           0         0             0       0   \n",
       "\n",
       "              ScheduledHour  DaysSchedToAppt  \n",
       "PatientId                                     \n",
       "2.987250e+13             18                0  \n",
       "5.589978e+14             16                0  \n",
       "4.262962e+12             16                0  \n",
       "8.679512e+11             17                0  \n",
       "8.841186e+12             16                0  "
      ]
     },
     "execution_count": 99,
     "metadata": {},
     "output_type": "execute_result"
    }
   ],
   "source": [
    "# clean data\n",
    "data = pd.read_csv('original_data.csv', index_col=0)\n",
    "data = data.drop('AppointmentID', axis=1)\n",
    "data.rename(columns = {'Hipertension':'Hypertension','Handcap':'Handicap','No-show':'Noshow'}, inplace=True)\n",
    "data.Gender = [1 if i=='M' else 0 for i in data.Gender]\n",
    "data.Noshow = [1 if i=='Yes' else 0 for i in data.Noshow]\n",
    "data.ScheduledDay = data.ScheduledDay.apply(np.datetime64)\n",
    "data.AppointmentDay = data.AppointmentDay.apply(np.datetime64)\n",
    "data['ScheduledHour'] = data.ScheduledDay.apply(lambda x: x.hour)\n",
    "data['Scheduled'] = data.ScheduledDay.apply(lambda x: x.date())\n",
    "data['Appointment'] = data.AppointmentDay.apply(lambda x: x.date())\n",
    "data['DaysSchedToAppt'] = data.Appointment - data.Scheduled\n",
    "data.DaysSchedToAppt = data.DaysSchedToAppt.apply(lambda x: x.days)\n",
    "data = data.drop(['Scheduled', 'Appointment', 'ScheduledDay', 'AppointmentDay'], axis=1)\n",
    "data = data[data.Age>=0]\n",
    "#data.to_csv('cleaned_data.csv')\n",
    "print(data.shape)\n",
    "data.head()"
   ]
  },
  {
   "cell_type": "code",
   "execution_count": 100,
   "metadata": {},
   "outputs": [
    {
     "name": "stdout",
     "output_type": "stream",
     "text": [
      "20.19% of the patients were no-shows.\n"
     ]
    }
   ],
   "source": [
    "print (\"{}% of the patients were no-shows.\".format(round(100*sum(data.Noshow)/data.shape[0],2)))"
   ]
  },
  {
   "cell_type": "code",
   "execution_count": 101,
   "metadata": {},
   "outputs": [
    {
     "name": "stdout",
     "output_type": "stream",
     "text": [
      "(110526, 92)\n"
     ]
    }
   ],
   "source": [
    "# get neighborhood dummy variables\n",
    "data = pd.get_dummies(data, columns=['Neighbourhood'])\n",
    "print(data.shape)"
   ]
  },
  {
   "cell_type": "code",
   "execution_count": null,
   "metadata": {
    "collapsed": true
   },
   "outputs": [],
   "source": []
  }
 ],
 "metadata": {
  "kernelspec": {
   "display_name": "Python [python3]",
   "language": "python",
   "name": "Python [python3]"
  },
  "language_info": {
   "codemirror_mode": {
    "name": "ipython",
    "version": 3
   },
   "file_extension": ".py",
   "mimetype": "text/x-python",
   "name": "python",
   "nbconvert_exporter": "python",
   "pygments_lexer": "ipython3",
   "version": "3.5.2"
  }
 },
 "nbformat": 4,
 "nbformat_minor": 2
}
